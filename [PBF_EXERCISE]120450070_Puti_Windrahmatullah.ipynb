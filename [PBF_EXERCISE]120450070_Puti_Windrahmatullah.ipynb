{
  "nbformat": 4,
  "nbformat_minor": 0,
  "metadata": {
    "colab": {
      "name": "[PBF_EXERCISE]120450070_Puti Windrahmatullah",
      "provenance": [],
      "include_colab_link": true
    },
    "kernelspec": {
      "name": "python3",
      "display_name": "Python 3"
    },
    "language_info": {
      "name": "python"
    }
  },
  "cells": [
    {
      "cell_type": "markdown",
      "metadata": {
        "id": "view-in-github",
        "colab_type": "text"
      },
      "source": [
        "<a href=\"https://colab.research.google.com/github/putiwindra/putiwindra/blob/main/%5BPBF_EXERCISE%5D120450070_Puti_Windrahmatullah.ipynb\" target=\"_parent\"><img src=\"https://colab.research.google.com/assets/colab-badge.svg\" alt=\"Open In Colab\"/></a>"
      ]
    },
    {
      "cell_type": "markdown",
      "source": [
        "# Tugas Wajib Pemograman Berbasis Fungsi \n",
        "\n",
        "* Nama : Puti Windrahmatullah\n",
        "* NIM  : 120450070\n",
        "* Kelas: RB"
      ],
      "metadata": {
        "id": "B7BCjxJQoWq6"
      }
    },
    {
      "cell_type": "markdown",
      "source": [
        "**EXERCISE 1**"
      ],
      "metadata": {
        "id": "0XL6RSazK4FE"
      }
    },
    {
      "cell_type": "code",
      "execution_count": 1,
      "metadata": {
        "colab": {
          "base_uri": "https://localhost:8080/"
        },
        "id": "v90WkICJKbof",
        "outputId": "eb1a91a4-83f9-41ec-9ad1-05029c581e72"
      },
      "outputs": [
        {
          "output_type": "stream",
          "name": "stdout",
          "text": [
            "Enkripsi Password:\n",
            "Original Password : anakanakcerdas2020\n",
            "Encrypted Password : Sc-TV-Sc-TS+Sc-TV-Sc-TS+Se-Sg-TZ-Sf-Sc-T[-Qh-Qf-Qh-Qf-\n",
            "Get Original Password:\n",
            "Encrypted Password : Sc-TV-Sc-TS+T[-Sc-TQ+TV-T[-Sf-Sc-T\\-Sc-Qh-Qf-Qh-Qf-TS+Sg-Se-Sg-\n",
            "Original Password : anaksainsdata2020kece\n"
          ]
        }
      ],
      "source": [
        "def encrypted_password(pwd):\n",
        "  password = list(pwd)\n",
        "\n",
        "  asciivalue = list()\n",
        "  for char in password:\n",
        "    asciichar = ord(char)\n",
        "    asciivalue.append(asciichar)\n",
        "\n",
        "  newpassword = \"\"\n",
        "  for num in asciivalue:\n",
        "    satu = num//26 + 80\n",
        "    dua = num%26 + 80\n",
        "    if satu > dua:\n",
        "      tiga = '+'\n",
        "    else:\n",
        "      tiga = '-'\n",
        "\n",
        "    newpassword = newpassword + chr(satu) + chr(dua) + tiga\n",
        "\n",
        "  return newpassword\n",
        "\n",
        "def original_password(pwd):\n",
        "  password = [pwd[i:i+3] for i in range(0, len(pwd), 3)]\n",
        "\n",
        "  asciivalue = list()\n",
        "  for word in password:\n",
        "    kesatu = ord(word[0]) - 80\n",
        "    kedua = ord(word[1]) - 80\n",
        "    nilai = 26 * kesatu + kedua\n",
        "    asciivalue.append(nilai)\n",
        "\n",
        "  passwordo = ''\n",
        "  for i in asciivalue:\n",
        "    char = chr(i)\n",
        "    passwordo = passwordo + char\n",
        "\n",
        "  return passwordo\n",
        "  \n",
        "print(\"Enkripsi Password:\")\n",
        "paswor = \"anakanakcerdas2020\"\n",
        "print (\"Original Password : \" + paswor)\n",
        "print (\"Encrypted Password : \" + encrypted_password(paswor))\n",
        "# Output : Original Password : anakanakcerdas2020\n",
        "# Output : Encrypted Password : Sc-TV-Sc-TS+Sc-TV-Sc-TS+Se-Sg-TZ-Sf-Sc-T[-Qh-Qf-Qh-Qf-\n",
        "\n",
        "\n",
        "print(\"Get Original Password:\")\n",
        "pasword = \"Sc-TV-Sc-TS+T[-Sc-TQ+TV-T[-Sf-Sc-T\\-Sc-Qh-Qf-Qh-Qf-TS+Sg-Se-Sg-\"\n",
        "print (\"Encrypted Password : \" + pasword)\n",
        "print (\"Original Password : \" + original_password(pasword))\n",
        "# Output : Encrypted Password : Sc-TV-Sc-TS+T[-Sc-TQ+TV-T[-Sf-Sc-T\\-Sc-Qh-Qf-Qh-Qf-TS+Sg-Se-Sg-\n",
        "# Output : Original Password : anaksainsdata2020kece"
      ]
    },
    {
      "cell_type": "markdown",
      "source": [
        "**EXERCISE 2**"
      ],
      "metadata": {
        "id": "yhuPLjL1LEAn"
      }
    },
    {
      "cell_type": "code",
      "source": [
        "import numpy as np\n",
        "a = open(\"text1.txt\", 'w')\n",
        "a.write(\"9502561694858652150281747994108545943651521215096841995237040384498740803993469376602031341619585763\")\n",
        "a.close()\n",
        "aa = open(\"text1.txt\", 'r')\n",
        "f1=np.array(aa.read().split(\"\\n\")).astype(float)\n",
        "ff1 = int(f1)\n",
        "\n",
        "\n",
        "b = open(\"text2.txt\", 'w')\n",
        "b.write(\"2116068642696162934965789080530992805391900568978958496201555855833896833372295507803936243187061092\")\n",
        "b.close()\n",
        "bb = open(\"text2.txt\", 'r')\n",
        "f2=np.array(bb.read().split(\"\\n\")).astype(float)\n",
        "ff2 = int(f2)\n",
        "\n",
        "f3 = ff1 + ff2\n",
        "print(f3)"
      ],
      "metadata": {
        "colab": {
          "base_uri": "https://localhost:8080/"
        },
        "id": "M9j24bh5Ke_v",
        "outputId": "1b3f4dbf-a0d4-448a-b4d6-0a8835a59a1f"
      },
      "execution_count": 2,
      "outputs": [
        {
          "output_type": "stream",
          "name": "stdout",
          "text": [
            "11618630337554814826348086790285854587429944447132304038458358061424824076107783714807302076307079168\n"
          ]
        }
      ]
    },
    {
      "cell_type": "markdown",
      "source": [
        "**EXERCISE 3**"
      ],
      "metadata": {
        "id": "PvdWTDqtLM9n"
      }
    },
    {
      "cell_type": "code",
      "source": [
        "def transmogrify(x):\n",
        "    x[0] = 999\n",
        "    return x\n",
        "## Main Program\n",
        "x = [1,2,3]\n",
        "print (x)\n",
        "print (transmogrify(x))\n",
        "print (x)"
      ],
      "metadata": {
        "colab": {
          "base_uri": "https://localhost:8080/"
        },
        "id": "2ssu8myzKfUQ",
        "outputId": "8a8cfdb5-8c4d-4e0d-e1e9-949eca877795"
      },
      "execution_count": 3,
      "outputs": [
        {
          "output_type": "stream",
          "name": "stdout",
          "text": [
            "[1, 2, 3]\n",
            "[999, 2, 3]\n",
            "[999, 2, 3]\n"
          ]
        }
      ]
    },
    {
      "cell_type": "code",
      "source": [
        "def no_mogrify(x):\n",
        "    x = [4,5,6]\n",
        "    return x\n",
        "\n",
        "## Main Program \n",
        "x = [1,2,3]\n",
        "print (x)\n",
        "print (no_mogrify(x))\n",
        "print (x)"
      ],
      "metadata": {
        "colab": {
          "base_uri": "https://localhost:8080/"
        },
        "id": "e48kJTOoKfcL",
        "outputId": "a83f32a3-d171-4d87-96dc-1827517df455"
      },
      "execution_count": 4,
      "outputs": [
        {
          "output_type": "stream",
          "name": "stdout",
          "text": [
            "[1, 2, 3]\n",
            "[4, 5, 6]\n",
            "[1, 2, 3]\n"
          ]
        }
      ]
    },
    {
      "cell_type": "markdown",
      "source": [
        "**EXERCISE 4**"
      ],
      "metadata": {
        "id": "SkcWOchGnNAp"
      }
    },
    {
      "cell_type": "code",
      "source": [
        "# Simple Football Game\n",
        "\n",
        "# Merancang Simulasi Permainan Bola Sederhana\n",
        "\n",
        "import math\n",
        "import random\n",
        "#Lambda value in Poisson distribution for higher rated team\n",
        "lambOne = 1.148698355\n",
        "#Lambda value for lower rated team\n",
        "lambTwo = 0.8705505633\n",
        "\n",
        "#Poisson distribution calculating goals scored by the home team\n",
        "def homeMatch(homeRating,awayRating):\n",
        "    global lambOne\n",
        "    global x\n",
        "    global y\n",
        "    if x == y:\n",
        "        raise ValueError\n",
        "    else:\n",
        "        lamb = lambOne**(int(homeRating)-int(awayRating))\n",
        "        homeScore = 0\n",
        "        z = random.random()    \n",
        "        while z > 0:\n",
        "            z = z - ((lamb**homeScore * math.exp(lamb * -1))/(math.factorial(homeScore)))\n",
        "            homeScore += 1\n",
        "        return (homeScore-1)\n",
        "\n",
        "#Poisson distribution calculating goals scored by away team\n",
        "def awayMatch(homeRating,awayRating):\n",
        "    global lambTwo\n",
        "    global x\n",
        "    global y\n",
        "    #This check is to stop a team playing itself\n",
        "    if x == y:\n",
        "        raise ValueError\n",
        "    else:\n",
        "        lamb = lambTwo**(int(homeRating)-int(awayRating))\n",
        "        awayScore = 0\n",
        "        z = random.random()    \n",
        "        while z > 0:\n",
        "            z = z - ((lamb**awayScore * math.exp(lamb * -1))/(math.factorial(awayScore)))\n",
        "            awayScore += 1\n",
        "        return (awayScore-1)\n",
        "\n",
        "#Selecting number of teams in league\n",
        "leagueSize = int(input(\"Enter number of teams in league: \"))\n",
        "\n",
        "#Initialising empty lists\n",
        "teamNames = []\n",
        "teamSkill = []\n",
        "teamPoints = []\n",
        "teamFor = []\n",
        "teamAgainst = []\n",
        "teamWins = []\n",
        "teamDraws = []\n",
        "teamLosses = []\n",
        "\n",
        "#Populating lists with number of zeroes equal to the number of teams (one zero for each)\n",
        "for x in range(leagueSize):\n",
        "    teamPoints += [0]\n",
        "    teamFor += [0]\n",
        "    teamAgainst += [0]\n",
        "    teamWins += [0]\n",
        "    teamDraws += [0]\n",
        "    teamLosses += [0]\n",
        "\n",
        "#Entering names and skill ratings for each team\n",
        "for i in range(leagueSize):\n",
        "    teamNames += [input(\"Enter team \"+str(i+1)+\" name: \")]\n",
        "for j in range(leagueSize):\n",
        "    teamSkill += [input(\"Enter \"+teamNames[j]+\" skill: \")]\n",
        "\n",
        "#Initialising variables\n",
        "homeScore = 0\n",
        "awayScore = 0\n",
        "\n",
        "#The season begins - each team plays all of its home games in one go\n",
        "for x in range(leagueSize):\n",
        "    #input(\"Press enter to continue \")\n",
        "    print(\"===========================================\")\n",
        "    print(teamNames[x]+\"'s home games: \")\n",
        "    print(\"===========================================\\n\")\n",
        "    for y in range(leagueSize):\n",
        "        error = 0\n",
        "        try:\n",
        "            homeScore = homeMatch(teamSkill[x],teamSkill[y])\n",
        "        #Skipping a game to stop a team playing itself\n",
        "        except ValueError:\n",
        "            pass\n",
        "            error += 1\n",
        "        try:\n",
        "            awayScore = awayMatch(teamSkill[x],teamSkill[y])\n",
        "        except ValueError:\n",
        "            pass\n",
        "        if error == 0:\n",
        "            #Updating lists\n",
        "            print(teamNames[x],homeScore,\"-\",awayScore,teamNames[y],\"\\n\")\n",
        "            teamFor[x] += homeScore\n",
        "            teamFor[y] += awayScore\n",
        "            teamAgainst[x] += awayScore\n",
        "            teamAgainst[y] += homeScore\n",
        "            if homeScore > awayScore:\n",
        "                teamWins[x] += 1\n",
        "                teamLosses[y] += 1\n",
        "                teamPoints[x] += 3\n",
        "            elif homeScore == awayScore:\n",
        "                teamDraws[x] += 1\n",
        "                teamDraws[y] += 1\n",
        "                teamPoints[x] += 1\n",
        "                teamPoints[y] += 1\n",
        "            else:\n",
        "                teamWins[y] += 1\n",
        "                teamLosses[x] += 1\n",
        "                teamPoints[y] += 3\n",
        "        else:\n",
        "            pass\n",
        "\n",
        "#Printing table (unsorted)\n",
        "print(\"Final table: \")\n",
        "for x in range(leagueSize):\n",
        "    #Lots of formatting\n",
        "    print(teamNames[x]+(15-len(teamNames[x]))*\" \"+\" Skill: \"+str(teamSkill[x])+(5-len(str(teamSkill[x])))*\" \"+\" Points: \"+str(teamPoints[x])+(5-len(str(teamPoints[x])))*\" \"+\" For: \"+str(teamFor[x])+(5-len(str(teamFor[x])))*\" \"+\" Against: \"+str(teamAgainst[x])+(5-len(str(teamPoints[x])))*\" \"+\" Goal difference: \"+str(teamFor[x]-teamAgainst[x])+(5-len(str(teamFor[x]-teamAgainst[x])))*\" \"+\" Wins: \"+str(teamWins[x])+(5-len(str(teamWins[x])))*\" \"+\" Draws: \"+str(teamDraws[x])+(5-len(str(teamDraws[x])))*\" \"+\" Losses: \"+str(teamLosses[x])+(5-len(str(teamLosses[x])))*\" \")\n",
        "teamPoints.sort()\n",
        "print(teamPoints)"
      ],
      "metadata": {
        "id": "DUmljcq1nSeH",
        "colab": {
          "base_uri": "https://localhost:8080/"
        },
        "outputId": "395f7e4e-4fb1-48a6-d18f-62f78705b684"
      },
      "execution_count": 6,
      "outputs": [
        {
          "output_type": "stream",
          "name": "stdout",
          "text": [
            "Enter number of teams in league: 3\n",
            "Enter team 1 name: moka\n",
            "Enter team 2 name: moly\n",
            "Enter team 3 name: oscar\n",
            "Enter moka skill: 90\n",
            "Enter moly skill: 73\n",
            "Enter oscar skill: 88\n",
            "===========================================\n",
            "moka's home games: \n",
            "===========================================\n",
            "\n",
            "moka 8 - 0 moly \n",
            "\n",
            "moka 2 - 1 oscar \n",
            "\n",
            "===========================================\n",
            "moly's home games: \n",
            "===========================================\n",
            "\n",
            "moly 0 - 9 moka \n",
            "\n",
            "moly 0 - 10 oscar \n",
            "\n",
            "===========================================\n",
            "oscar's home games: \n",
            "===========================================\n",
            "\n",
            "oscar 0 - 0 moka \n",
            "\n",
            "oscar 9 - 0 moly \n",
            "\n",
            "Final table: \n",
            "moka            Skill: 90    Points: 10    For: 19    Against: 1    Goal difference: 18    Wins: 3     Draws: 1     Losses: 0    \n",
            "moly            Skill: 73    Points: 0     For: 0     Against: 36     Goal difference: -36   Wins: 0     Draws: 0     Losses: 4    \n",
            "oscar           Skill: 88    Points: 7     For: 20    Against: 2     Goal difference: 18    Wins: 2     Draws: 1     Losses: 1    \n",
            "[0, 7, 10]\n"
          ]
        }
      ]
    }
  ]
}